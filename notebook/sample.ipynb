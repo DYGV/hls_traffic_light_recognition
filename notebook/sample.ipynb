{
 "cells": [
  {
   "cell_type": "code",
   "execution_count": 1,
   "id": "dab63678",
   "metadata": {},
   "outputs": [],
   "source": [
    "import numpy as np\n",
    "from pynq import Overlay\n",
    "from pynq import allocate\n",
    "import cv2"
   ]
  },
  {
   "cell_type": "code",
   "execution_count": 2,
   "id": "92850406",
   "metadata": {
    "scrolled": false
   },
   "outputs": [],
   "source": [
    "overlay = Overlay(\"/home/root/jupyter_notebooks/traffic_signal_recognition/design_1.bit\")\n",
    "dma = overlay.axi_dma_0\n",
    "traffic_light_recognition = overlay.traffic_light_recogn_0"
   ]
  },
  {
   "cell_type": "code",
   "execution_count": 3,
   "id": "628078cb",
   "metadata": {},
   "outputs": [],
   "source": [
    "def recognition(input_data, in_buffer):\n",
    "    in_buffer[:,:,0:3] = input_data[:]\n",
    "    dma.sendchannel.transfer(in_buffer)\n",
    "    traffic_light_recognition.write(0x00, 0x01)\n",
    "    dma.sendchannel.wait()\n",
    "    while not (traffic_light_recognition.read(0x00) >> 1) & 0x01:\n",
    "        continue\n",
    "    #return traffic_light_recognition.read(0x28)"
   ]
  },
  {
   "cell_type": "code",
   "execution_count": 4,
   "id": "71af10ee",
   "metadata": {},
   "outputs": [
    {
     "data": {
      "text/plain": [
       "RegisterMap {\n",
       "  CTRL = Register(AP_START=0, AP_DONE=0, AP_IDLE=1, AP_READY=0, RESERVED_1=0, AUTO_RESTART=0, RESERVED_2=0, INTERRUPT=0, RESERVED_3=0),\n",
       "  GIER = Register(Enable=0, RESERVED=0),\n",
       "  IP_IER = Register(CHAN0_INT_EN=0, CHAN1_INT_EN=0, RESERVED_0=0),\n",
       "  IP_ISR = Register(CHAN0_INT_ST=0, CHAN1_INT_ST=0, RESERVED_0=0),\n",
       "  rows = Register(rows=write-only),\n",
       "  cols = Register(cols=write-only),\n",
       "  radius = Register(radius=write-only),\n",
       "  Memory_cond_green = Register(value=0),\n",
       "  Memory_cond_yellow = Register(value=0),\n",
       "  Memory_cond_red = Register(value=0),\n",
       "  circle_center_x = Register(circle_center_x=0),\n",
       "  circle_center_x_ctrl = Register(circle_center_x_ap_vld=0, RESERVED=0),\n",
       "  circle_center_y = Register(circle_center_y=0),\n",
       "  circle_center_y_ctrl = Register(circle_center_y_ap_vld=0, RESERVED=0),\n",
       "  circle_radius = Register(circle_radius=0),\n",
       "  circle_radius_ctrl = Register(circle_radius_ap_vld=0, RESERVED=0),\n",
       "  color = Register(color=0),\n",
       "  color_ctrl = Register(color_ap_vld=0, RESERVED=0)\n",
       "}"
      ]
     },
     "execution_count": 4,
     "metadata": {},
     "output_type": "execute_result"
    }
   ],
   "source": [
    "traffic_light_recognition.register_map"
   ]
  },
  {
   "cell_type": "code",
   "execution_count": 5,
   "id": "7498dd28",
   "metadata": {},
   "outputs": [
    {
     "name": "stdout",
     "output_type": "stream",
     "text": [
      "./image/green_256_128.jpg\n",
      "x=52, y=43, r=20\n",
      "3\n",
      "./image/yellow_256_128.jpg\n",
      "x=124, y=41, r=20\n",
      "2\n",
      "./image/red_256_128.jpg\n",
      "x=181, y=43,r=20\n",
      "1\n"
     ]
    }
   ],
   "source": [
    "traffic_green = \"../image/green_256_128.jpg\"\n",
    "traffic_yellow = \"../image/yellow_256_128.jpg\"\n",
    "traffic_red = \"../image/red_256_128.jpg\"\n",
    "\n",
    "images = [traffic_green, traffic_yellow, traffic_red]\n",
    "\n",
    "for i, name in enumerate(images):\n",
    "    print(name)\n",
    "    input_img = cv2.imread(name)\n",
    "    height = input_img.shape[0]\n",
    "    width = input_img.shape[1]\n",
    "    channel = input_img.shape[2] + 1\n",
    "\n",
    "    in_buffer = allocate(shape=(height, width, channel), dtype=np.uint8)\n",
    "    \n",
    "    traffic_light_recognition.write(0x10, input_img.shape[0]) # rows\n",
    "    traffic_light_recognition.write(0x18, input_img.shape[1]) # cols\n",
    "    traffic_light_recognition.write(0x20, 20) # radius\n",
    "    \n",
    "    traffic_light_recognition.write(48, 150) # cond_green\n",
    "    traffic_light_recognition.write(52, 200) # \n",
    "    traffic_light_recognition.write(56, 150) # \n",
    "    \n",
    "    traffic_light_recognition.write(64, 200) # cond_yellow\n",
    "    traffic_light_recognition.write(68, 150) # \n",
    "    traffic_light_recognition.write(72, 150) # \n",
    "    \n",
    "    traffic_light_recognition.write(80, 200) # cond_red\n",
    "    traffic_light_recognition.write(84, 150) # \n",
    "    traffic_light_recognition.write(88, 150) # \n",
    "    recognition(input_img, in_buffer)\n",
    "    \n",
    "    x = traffic_light_recognition.read(0x60) # circle_center_x\n",
    "    y = traffic_light_recognition.read(0x70) # circle_center_y\n",
    "    r = traffic_light_recognition.read(0x80) # circle_radius\n",
    "    color = traffic_light_recognition.read(0x90) # color\n",
    "    \n",
    "    print(f\"x={x}, y={y}, r={r}\")\n",
    "    print(color)"
   ]
  }
 ],
 "metadata": {
  "kernelspec": {
   "display_name": "Python 3 (ipykernel)",
   "language": "python",
   "name": "python3"
  },
  "language_info": {
   "codemirror_mode": {
    "name": "ipython",
    "version": 3
   },
   "file_extension": ".py",
   "mimetype": "text/x-python",
   "name": "python",
   "nbconvert_exporter": "python",
   "pygments_lexer": "ipython3",
   "version": "3.10.6"
  }
 },
 "nbformat": 4,
 "nbformat_minor": 5
}
